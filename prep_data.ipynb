{
 "cells": [
  {
   "cell_type": "code",
   "execution_count": 1,
   "id": "5098686e",
   "metadata": {
    "tags": []
   },
   "outputs": [],
   "source": [
    "#prep_data.ipynb\n",
    "#\n",
    "#by Joe Hahn\n",
    "#joe.hahn@oracle.com\n",
    "#2025 March 10\n",
    "#\n",
    "#prep nvidia_qa dataset for fine-tuning"
   ]
  },
  {
   "cell_type": "code",
   "execution_count": 2,
   "id": "1f25cfa2",
   "metadata": {
    "tags": []
   },
   "outputs": [],
   "source": [
    "#get start time\n",
    "import time as tm\n",
    "clock_start = tm.time()"
   ]
  },
  {
   "cell_type": "code",
   "execution_count": 3,
   "id": "b3e83d5b",
   "metadata": {
    "tags": []
   },
   "outputs": [],
   "source": [
    "#import usual libraries\n",
    "%matplotlib inline\n",
    "import matplotlib.pyplot as plt\n",
    "from matplotlib import rcParams\n",
    "import seaborn as sns\n",
    "color_seq = plt.rcParams['axes.prop_cycle'].by_key()['color']\n",
    "import pandas as pd\n",
    "import numpy as np\n",
    "pd.set_option('display.max_columns', 200)\n",
    "pd.set_option('display.max_rows', 200)\n",
    "np.set_printoptions(threshold=200)\n",
    "from pandas.plotting import register_matplotlib_converters\n",
    "register_matplotlib_converters()"
   ]
  },
  {
   "cell_type": "code",
   "execution_count": 4,
   "id": "20d3288b",
   "metadata": {
    "tags": []
   },
   "outputs": [
    {
     "name": "stdout",
     "output_type": "stream",
     "text": [
      "oci.__version__ =  2.135.0\n",
      "CONDA_DEFAULT_ENV=/home/datascience/conda/generalml_p311_cpu_x86_64_v1\n",
      "BUILD_DATE=\n"
     ]
    }
   ],
   "source": [
    "#check version numbers\n",
    "import warnings\n",
    "warnings.filterwarnings('ignore')\n",
    "import logging\n",
    "logging.basicConfig(format='%(levelname)s:%(message)s', level=logging.ERROR)\n",
    "import oci\n",
    "print('oci.__version__ = ', oci.__version__)\n",
    "!echo CONDA_DEFAULT_ENV=$CONDA_DEFAULT_ENV \n",
    "!echo BUILD_DATE=$BUILD_DATE "
   ]
  },
  {
   "cell_type": "code",
   "execution_count": 5,
   "id": "65986f6a",
   "metadata": {
    "tags": []
   },
   "outputs": [],
   "source": [
    "#set random number seed\n",
    "random_state = 12\n",
    "np.random.seed(seed=random_state)"
   ]
  },
  {
   "cell_type": "code",
   "execution_count": 6,
   "id": "6ca21e7e-f758-4270-b4b1-61e1623a0676",
   "metadata": {
    "tags": []
   },
   "outputs": [],
   "source": [
    "#set max_colwidth for pandas \n",
    "pd.set_option('max_colwidth', 1000)"
   ]
  },
  {
   "cell_type": "code",
   "execution_count": 7,
   "id": "fa21ca38",
   "metadata": {
    "tags": []
   },
   "outputs": [
    {
     "name": "stdout",
     "output_type": "stream",
     "text": [
      "file =  data/NvidiaDocumentationQandApairs.csv\n",
      "df.shape =  (7108, 2)\n"
     ]
    },
    {
     "data": {
      "text/html": [
       "<div>\n",
       "<style scoped>\n",
       "    .dataframe tbody tr th:only-of-type {\n",
       "        vertical-align: middle;\n",
       "    }\n",
       "\n",
       "    .dataframe tbody tr th {\n",
       "        vertical-align: top;\n",
       "    }\n",
       "\n",
       "    .dataframe thead th {\n",
       "        text-align: right;\n",
       "    }\n",
       "</style>\n",
       "<table border=\"1\" class=\"dataframe\">\n",
       "  <thead>\n",
       "    <tr style=\"text-align: right;\">\n",
       "      <th></th>\n",
       "      <th>question</th>\n",
       "      <th>answer</th>\n",
       "    </tr>\n",
       "  </thead>\n",
       "  <tbody>\n",
       "    <tr>\n",
       "      <th>4780</th>\n",
       "      <td>What insights can developers gain from learning various debugging techniques?</td>\n",
       "      <td>Learning various debugging techniques empowers developers to approach complex issues with a broader skill set, enabling them to analyze, troubleshoot, and resolve intricate challenges effectively.</td>\n",
       "    </tr>\n",
       "    <tr>\n",
       "      <th>7056</th>\n",
       "      <td>What is the purpose of the STAC-A2 benchmarks?</td>\n",
       "      <td>The STAC-A2 benchmarks aim to represent the standard risk analysis workload that banks and insurance companies use to measure exposure on the financial markets.</td>\n",
       "    </tr>\n",
       "    <tr>\n",
       "      <th>168</th>\n",
       "      <td>How does data sharing occur among warps in the GEMM computation?</td>\n",
       "      <td>Warps within the same row or column share the same fragments of A and B, respectively, optimizing data reuse and maximizing compute intensity.</td>\n",
       "    </tr>\n",
       "    <tr>\n",
       "      <th>2956</th>\n",
       "      <td>How can variadic templates improve code readability?</td>\n",
       "      <td>Variadic templates can improve code readability by reducing the need for multiple overloaded functions or function templates, leading to cleaner and more concise code.</td>\n",
       "    </tr>\n",
       "    <tr>\n",
       "      <th>2686</th>\n",
       "      <td>What is the significance of NVIDIA expanding support to other cloud platforms?</td>\n",
       "      <td>NVIDIA's plan to expand NGC support to other cloud platforms will extend the availability of the GPU-accelerated cloud platform to a broader range of cloud users beyond Amazon EC2.</td>\n",
       "    </tr>\n",
       "  </tbody>\n",
       "</table>\n",
       "</div>"
      ],
      "text/plain": [
       "                                                                            question  \\\n",
       "4780   What insights can developers gain from learning various debugging techniques?   \n",
       "7056                                  What is the purpose of the STAC-A2 benchmarks?   \n",
       "168                 How does data sharing occur among warps in the GEMM computation?   \n",
       "2956                            How can variadic templates improve code readability?   \n",
       "2686  What is the significance of NVIDIA expanding support to other cloud platforms?   \n",
       "\n",
       "                                                                                                                                                                                                    answer  \n",
       "4780  Learning various debugging techniques empowers developers to approach complex issues with a broader skill set, enabling them to analyze, troubleshoot, and resolve intricate challenges effectively.  \n",
       "7056                                      The STAC-A2 benchmarks aim to represent the standard risk analysis workload that banks and insurance companies use to measure exposure on the financial markets.  \n",
       "168                                                         Warps within the same row or column share the same fragments of A and B, respectively, optimizing data reuse and maximizing compute intensity.  \n",
       "2956                               Variadic templates can improve code readability by reducing the need for multiple overloaded functions or function templates, leading to cleaner and more concise code.  \n",
       "2686                  NVIDIA's plan to expand NGC support to other cloud platforms will extend the availability of the GPU-accelerated cloud platform to a broader range of cloud users beyond Amazon EC2.  "
      ]
     },
     "execution_count": 7,
     "metadata": {},
     "output_type": "execute_result"
    }
   ],
   "source": [
    "#read docs downloaded from https://huggingface.co/datasets/ajsbsd/nvidia-qa\n",
    "file = 'data/NvidiaDocumentationQandApairs.csv'\n",
    "print ('file = ', file)\n",
    "df = pd.read_csv(file)\n",
    "df = df.drop(df.columns[0], axis=1)\n",
    "print ('df.shape = ', df.shape)\n",
    "df_raw = df\n",
    "df_raw.sample(5)"
   ]
  },
  {
   "cell_type": "code",
   "execution_count": 8,
   "id": "771d94b9-aa40-46ee-8cf0-f7ca019d1c74",
   "metadata": {
    "tags": []
   },
   "outputs": [
    {
     "name": "stdout",
     "output_type": "stream",
     "text": [
      "train_test\n",
      "train    6331\n",
      "test      777\n",
      "Name: count, dtype: int64\n"
     ]
    },
    {
     "data": {
      "text/html": [
       "<div>\n",
       "<style scoped>\n",
       "    .dataframe tbody tr th:only-of-type {\n",
       "        vertical-align: middle;\n",
       "    }\n",
       "\n",
       "    .dataframe tbody tr th {\n",
       "        vertical-align: top;\n",
       "    }\n",
       "\n",
       "    .dataframe thead th {\n",
       "        text-align: right;\n",
       "    }\n",
       "</style>\n",
       "<table border=\"1\" class=\"dataframe\">\n",
       "  <thead>\n",
       "    <tr style=\"text-align: right;\">\n",
       "      <th></th>\n",
       "      <th>question</th>\n",
       "      <th>answer</th>\n",
       "      <th>train_test</th>\n",
       "    </tr>\n",
       "  </thead>\n",
       "  <tbody>\n",
       "    <tr>\n",
       "      <th>0</th>\n",
       "      <td>What is Hybridizer?</td>\n",
       "      <td>Hybridizer is a compiler from Altimesh that enables programming GPUs and accelerators using C# code or .NET Assembly.</td>\n",
       "      <td>train</td>\n",
       "    </tr>\n",
       "    <tr>\n",
       "      <th>1</th>\n",
       "      <td>How does Hybridizer generate optimized code?</td>\n",
       "      <td>Hybridizer uses decorated symbols to express parallelism and generates source code or binaries optimized for multicore CPUs and GPUs.</td>\n",
       "      <td>test</td>\n",
       "    </tr>\n",
       "    <tr>\n",
       "      <th>2</th>\n",
       "      <td>What are some parallelization patterns mentioned in the text?</td>\n",
       "      <td>The text mentions using parallelization patterns like Parallel.For and distributing parallel work explicitly, similar to CUDA.</td>\n",
       "      <td>train</td>\n",
       "    </tr>\n",
       "    <tr>\n",
       "      <th>3</th>\n",
       "      <td>How can you benefit from accelerators without learning their internal architecture?</td>\n",
       "      <td>You can benefit from accelerators' compute horsepower without learning the details of their internal architecture by using patterns like Parallel.For or CUDA-like distribution of parallel work.</td>\n",
       "      <td>train</td>\n",
       "    </tr>\n",
       "    <tr>\n",
       "      <th>4</th>\n",
       "      <td>What is an example of using Hybridizer?</td>\n",
       "      <td>An example in the text demonstrates using Parallel.For with a lambda to leverage the compute power of accelerators.</td>\n",
       "      <td>train</td>\n",
       "    </tr>\n",
       "  </tbody>\n",
       "</table>\n",
       "</div>"
      ],
      "text/plain": [
       "                                                                              question  \\\n",
       "0                                                                  What is Hybridizer?   \n",
       "1                                         How does Hybridizer generate optimized code?   \n",
       "2                        What are some parallelization patterns mentioned in the text?   \n",
       "3  How can you benefit from accelerators without learning their internal architecture?   \n",
       "4                                              What is an example of using Hybridizer?   \n",
       "\n",
       "                                                                                                                                                                                              answer  \\\n",
       "0                                                                              Hybridizer is a compiler from Altimesh that enables programming GPUs and accelerators using C# code or .NET Assembly.   \n",
       "1                                                              Hybridizer uses decorated symbols to express parallelism and generates source code or binaries optimized for multicore CPUs and GPUs.   \n",
       "2                                                                     The text mentions using parallelization patterns like Parallel.For and distributing parallel work explicitly, similar to CUDA.   \n",
       "3  You can benefit from accelerators' compute horsepower without learning the details of their internal architecture by using patterns like Parallel.For or CUDA-like distribution of parallel work.   \n",
       "4                                                                                An example in the text demonstrates using Parallel.For with a lambda to leverage the compute power of accelerators.   \n",
       "\n",
       "  train_test  \n",
       "0      train  \n",
       "1       test  \n",
       "2      train  \n",
       "3      train  \n",
       "4      train  "
      ]
     },
     "execution_count": 8,
     "metadata": {},
     "output_type": "execute_result"
    }
   ],
   "source": [
    "#train_test split = 90:10\n",
    "train_fraction = 0.9\n",
    "df = df_raw\n",
    "df['train_test'] = 'test'\n",
    "df['ran_num'] = np.random.rand(len(df))\n",
    "idx = (df.ran_num < train_fraction)\n",
    "df.loc[idx, 'train_test'] = 'train'\n",
    "df = df.drop('ran_num', axis=1)\n",
    "df_split = df\n",
    "print (df_split.train_test.value_counts())\n",
    "df_split.head(5)"
   ]
  },
  {
   "cell_type": "code",
   "execution_count": 9,
   "id": "80531ef7",
   "metadata": {
    "tags": []
   },
   "outputs": [
    {
     "name": "stdout",
     "output_type": "stream",
     "text": [
      "df.shape =  (7108, 4)\n",
      "Q_chars min, max =  12 171\n"
     ]
    },
    {
     "data": {
      "text/html": [
       "<div>\n",
       "<style scoped>\n",
       "    .dataframe tbody tr th:only-of-type {\n",
       "        vertical-align: middle;\n",
       "    }\n",
       "\n",
       "    .dataframe tbody tr th {\n",
       "        vertical-align: top;\n",
       "    }\n",
       "\n",
       "    .dataframe thead th {\n",
       "        text-align: right;\n",
       "    }\n",
       "</style>\n",
       "<table border=\"1\" class=\"dataframe\">\n",
       "  <thead>\n",
       "    <tr style=\"text-align: right;\">\n",
       "      <th></th>\n",
       "      <th>question</th>\n",
       "      <th>answer</th>\n",
       "      <th>train_test</th>\n",
       "      <th>Q_chars</th>\n",
       "    </tr>\n",
       "  </thead>\n",
       "  <tbody>\n",
       "    <tr>\n",
       "      <th>0</th>\n",
       "      <td>What is Hybridizer?</td>\n",
       "      <td>Hybridizer is a compiler from Altimesh that enables programming GPUs and accelerators using C# code or .NET Assembly.</td>\n",
       "      <td>train</td>\n",
       "      <td>19</td>\n",
       "    </tr>\n",
       "    <tr>\n",
       "      <th>1</th>\n",
       "      <td>How does Hybridizer generate optimized code?</td>\n",
       "      <td>Hybridizer uses decorated symbols to express parallelism and generates source code or binaries optimized for multicore CPUs and GPUs.</td>\n",
       "      <td>test</td>\n",
       "      <td>44</td>\n",
       "    </tr>\n",
       "    <tr>\n",
       "      <th>2</th>\n",
       "      <td>What are some parallelization patterns mentioned in the text?</td>\n",
       "      <td>The text mentions using parallelization patterns like Parallel.For and distributing parallel work explicitly, similar to CUDA.</td>\n",
       "      <td>train</td>\n",
       "      <td>61</td>\n",
       "    </tr>\n",
       "    <tr>\n",
       "      <th>3</th>\n",
       "      <td>How can you benefit from accelerators without learning their internal architecture?</td>\n",
       "      <td>You can benefit from accelerators' compute horsepower without learning the details of their internal architecture by using patterns like Parallel.For or CUDA-like distribution of parallel work.</td>\n",
       "      <td>train</td>\n",
       "      <td>83</td>\n",
       "    </tr>\n",
       "    <tr>\n",
       "      <th>4</th>\n",
       "      <td>What is an example of using Hybridizer?</td>\n",
       "      <td>An example in the text demonstrates using Parallel.For with a lambda to leverage the compute power of accelerators.</td>\n",
       "      <td>train</td>\n",
       "      <td>39</td>\n",
       "    </tr>\n",
       "  </tbody>\n",
       "</table>\n",
       "</div>"
      ],
      "text/plain": [
       "                                                                              question  \\\n",
       "0                                                                  What is Hybridizer?   \n",
       "1                                         How does Hybridizer generate optimized code?   \n",
       "2                        What are some parallelization patterns mentioned in the text?   \n",
       "3  How can you benefit from accelerators without learning their internal architecture?   \n",
       "4                                              What is an example of using Hybridizer?   \n",
       "\n",
       "                                                                                                                                                                                              answer  \\\n",
       "0                                                                              Hybridizer is a compiler from Altimesh that enables programming GPUs and accelerators using C# code or .NET Assembly.   \n",
       "1                                                              Hybridizer uses decorated symbols to express parallelism and generates source code or binaries optimized for multicore CPUs and GPUs.   \n",
       "2                                                                     The text mentions using parallelization patterns like Parallel.For and distributing parallel work explicitly, similar to CUDA.   \n",
       "3  You can benefit from accelerators' compute horsepower without learning the details of their internal architecture by using patterns like Parallel.For or CUDA-like distribution of parallel work.   \n",
       "4                                                                                An example in the text demonstrates using Parallel.For with a lambda to leverage the compute power of accelerators.   \n",
       "\n",
       "  train_test  Q_chars  \n",
       "0      train       19  \n",
       "1       test       44  \n",
       "2      train       61  \n",
       "3      train       83  \n",
       "4      train       39  "
      ]
     },
     "execution_count": 9,
     "metadata": {},
     "output_type": "execute_result"
    }
   ],
   "source": [
    "#count question characters\n",
    "df = df_split\n",
    "df['Q_chars_flt'] = df.question.str.len()\n",
    "df['Q_chars'] = 0\n",
    "idx = (df.Q_chars_flt > 0)\n",
    "df.loc[idx, 'Q_chars'] = df.loc[idx, 'Q_chars_flt'].astype(int)\n",
    "df = df.drop('Q_chars_flt', axis=1)\n",
    "print ('df.shape = ', df.shape)\n",
    "print ('Q_chars min, max = ', df.Q_chars.min(), df.Q_chars.max())\n",
    "df_Q = df\n",
    "df_Q.head(5)"
   ]
  },
  {
   "cell_type": "code",
   "execution_count": 10,
   "id": "6ac672b1-14c2-4afc-93e8-10254c706faf",
   "metadata": {
    "tags": []
   },
   "outputs": [
    {
     "name": "stdout",
     "output_type": "stream",
     "text": [
      "df.shape =  (7108, 5)\n",
      "A_chars min, max =  12 497\n"
     ]
    },
    {
     "data": {
      "text/html": [
       "<div>\n",
       "<style scoped>\n",
       "    .dataframe tbody tr th:only-of-type {\n",
       "        vertical-align: middle;\n",
       "    }\n",
       "\n",
       "    .dataframe tbody tr th {\n",
       "        vertical-align: top;\n",
       "    }\n",
       "\n",
       "    .dataframe thead th {\n",
       "        text-align: right;\n",
       "    }\n",
       "</style>\n",
       "<table border=\"1\" class=\"dataframe\">\n",
       "  <thead>\n",
       "    <tr style=\"text-align: right;\">\n",
       "      <th></th>\n",
       "      <th>question</th>\n",
       "      <th>answer</th>\n",
       "      <th>train_test</th>\n",
       "      <th>Q_chars</th>\n",
       "      <th>A_chars</th>\n",
       "    </tr>\n",
       "  </thead>\n",
       "  <tbody>\n",
       "    <tr>\n",
       "      <th>0</th>\n",
       "      <td>What is Hybridizer?</td>\n",
       "      <td>Hybridizer is a compiler from Altimesh that enables programming GPUs and accelerators using C# code or .NET Assembly.</td>\n",
       "      <td>train</td>\n",
       "      <td>19</td>\n",
       "      <td>117</td>\n",
       "    </tr>\n",
       "    <tr>\n",
       "      <th>1</th>\n",
       "      <td>How does Hybridizer generate optimized code?</td>\n",
       "      <td>Hybridizer uses decorated symbols to express parallelism and generates source code or binaries optimized for multicore CPUs and GPUs.</td>\n",
       "      <td>test</td>\n",
       "      <td>44</td>\n",
       "      <td>133</td>\n",
       "    </tr>\n",
       "    <tr>\n",
       "      <th>2</th>\n",
       "      <td>What are some parallelization patterns mentioned in the text?</td>\n",
       "      <td>The text mentions using parallelization patterns like Parallel.For and distributing parallel work explicitly, similar to CUDA.</td>\n",
       "      <td>train</td>\n",
       "      <td>61</td>\n",
       "      <td>126</td>\n",
       "    </tr>\n",
       "    <tr>\n",
       "      <th>3</th>\n",
       "      <td>How can you benefit from accelerators without learning their internal architecture?</td>\n",
       "      <td>You can benefit from accelerators' compute horsepower without learning the details of their internal architecture by using patterns like Parallel.For or CUDA-like distribution of parallel work.</td>\n",
       "      <td>train</td>\n",
       "      <td>83</td>\n",
       "      <td>193</td>\n",
       "    </tr>\n",
       "    <tr>\n",
       "      <th>4</th>\n",
       "      <td>What is an example of using Hybridizer?</td>\n",
       "      <td>An example in the text demonstrates using Parallel.For with a lambda to leverage the compute power of accelerators.</td>\n",
       "      <td>train</td>\n",
       "      <td>39</td>\n",
       "      <td>115</td>\n",
       "    </tr>\n",
       "  </tbody>\n",
       "</table>\n",
       "</div>"
      ],
      "text/plain": [
       "                                                                              question  \\\n",
       "0                                                                  What is Hybridizer?   \n",
       "1                                         How does Hybridizer generate optimized code?   \n",
       "2                        What are some parallelization patterns mentioned in the text?   \n",
       "3  How can you benefit from accelerators without learning their internal architecture?   \n",
       "4                                              What is an example of using Hybridizer?   \n",
       "\n",
       "                                                                                                                                                                                              answer  \\\n",
       "0                                                                              Hybridizer is a compiler from Altimesh that enables programming GPUs and accelerators using C# code or .NET Assembly.   \n",
       "1                                                              Hybridizer uses decorated symbols to express parallelism and generates source code or binaries optimized for multicore CPUs and GPUs.   \n",
       "2                                                                     The text mentions using parallelization patterns like Parallel.For and distributing parallel work explicitly, similar to CUDA.   \n",
       "3  You can benefit from accelerators' compute horsepower without learning the details of their internal architecture by using patterns like Parallel.For or CUDA-like distribution of parallel work.   \n",
       "4                                                                                An example in the text demonstrates using Parallel.For with a lambda to leverage the compute power of accelerators.   \n",
       "\n",
       "  train_test  Q_chars  A_chars  \n",
       "0      train       19      117  \n",
       "1       test       44      133  \n",
       "2      train       61      126  \n",
       "3      train       83      193  \n",
       "4      train       39      115  "
      ]
     },
     "execution_count": 10,
     "metadata": {},
     "output_type": "execute_result"
    }
   ],
   "source": [
    "#count answer characters\n",
    "df = df_Q\n",
    "df['A_chars_flt'] = df.answer.str.len()\n",
    "df['A_chars'] = 0\n",
    "idx = (df.A_chars_flt > 0)\n",
    "df.loc[idx, 'A_chars'] = df.loc[idx, 'A_chars_flt'].astype(int)\n",
    "df = df.drop('A_chars_flt', axis=1)\n",
    "print ('df.shape = ', df.shape)\n",
    "print ('A_chars min, max = ', df.A_chars.min(), df.A_chars.max())\n",
    "df_A = df\n",
    "df_A.head(5)"
   ]
  },
  {
   "cell_type": "code",
   "execution_count": 11,
   "id": "6be75629-6e7f-4455-b195-35564fed4903",
   "metadata": {
    "tags": []
   },
   "outputs": [
    {
     "data": {
      "image/png": "[encoded data removed]",
      "text/plain": [
       "<Figure size 1000x400 with 1 Axes>"
      ]
     },
     "metadata": {},
     "output_type": "display_data"
    }
   ],
   "source": [
    "#plot Q_chars distribution\n",
    "df = df_A\n",
    "fig, ax = plt.subplots(1,1, figsize=(10, 4))\n",
    "sns.histplot(data=df, x='Q_chars', bins=30)\n",
    "p = ax.set_xlim(0, 150)\n",
    "p = ax.set_xlabel('Q_chars')\n",
    "p = ax.set_ylabel('number of records')"
   ]
  },
  {
   "cell_type": "code",
   "execution_count": 12,
   "id": "68d576f6-f5aa-4064-bb7c-2abf8beab763",
   "metadata": {
    "tags": []
   },
   "outputs": [
    {
     "data": {
      "image/png": "[encoded data removed]",
      "text/plain": [
       "<Figure size 1000x400 with 1 Axes>"
      ]
     },
     "metadata": {},
     "output_type": "display_data"
    }
   ],
   "source": [
    "#plot A_chars distribution\n",
    "df = df_A\n",
    "fig, ax = plt.subplots(1,1, figsize=(10, 4))\n",
    "sns.histplot(data=df, x='A_chars', bins=30)\n",
    "#p = ax.set_xlim(0, 150)\n",
    "p = ax.set_xlabel('A_chars')\n",
    "p = ax.set_ylabel('number of records')"
   ]
  },
  {
   "cell_type": "code",
   "execution_count": 13,
   "id": "acec9dbc-d5f5-4c6f-bdf1-2611e13f2412",
   "metadata": {
    "tags": []
   },
   "outputs": [
    {
     "data": {
      "image/png": "[encoded data removed]",
      "text/plain": [
       "<Figure size 1000x400 with 1 Axes>"
      ]
     },
     "metadata": {},
     "output_type": "display_data"
    }
   ],
   "source": [
    "#plot Q_chars + A_chars distribution\n",
    "df = df_A\n",
    "df['QA_chars'] = df.Q_chars + df.A_chars\n",
    "fig, ax = plt.subplots(1,1, figsize=(10, 4))\n",
    "sns.histplot(data=df, x='QA_chars', bins=30)\n",
    "#p = ax.set_xlim(50, 550)\n",
    "p = ax.set_xlabel('QA_chars')\n",
    "p = ax.set_ylabel('number of records')"
   ]
  },
  {
   "cell_type": "code",
   "execution_count": 14,
   "id": "430c9eb3-57f5-4e02-88c0-f9797ef45978",
   "metadata": {
    "tags": []
   },
   "outputs": [
    {
     "data": {
      "text/html": [
       "<div>\n",
       "<style scoped>\n",
       "    .dataframe tbody tr th:only-of-type {\n",
       "        vertical-align: middle;\n",
       "    }\n",
       "\n",
       "    .dataframe tbody tr th {\n",
       "        vertical-align: top;\n",
       "    }\n",
       "\n",
       "    .dataframe thead th {\n",
       "        text-align: right;\n",
       "    }\n",
       "</style>\n",
       "<table border=\"1\" class=\"dataframe\">\n",
       "  <thead>\n",
       "    <tr style=\"text-align: right;\">\n",
       "      <th></th>\n",
       "      <th>question</th>\n",
       "      <th>answer</th>\n",
       "      <th>train_test</th>\n",
       "      <th>Q_chars</th>\n",
       "      <th>A_chars</th>\n",
       "      <th>QA_chars</th>\n",
       "    </tr>\n",
       "  </thead>\n",
       "  <tbody>\n",
       "    <tr>\n",
       "      <th>248</th>\n",
       "      <td>What is the new feature introduced in CUDA 11.2 regarding inlining?</td>\n",
       "      <td>CUDA 11.2 introduces the capability to know which functions were inlined and which weren't. This feature provides insights into the inlining decisions and reasons for non-inlining.</td>\n",
       "      <td>train</td>\n",
       "      <td>67</td>\n",
       "      <td>180</td>\n",
       "      <td>247</td>\n",
       "    </tr>\n",
       "    <tr>\n",
       "      <th>6822</th>\n",
       "      <td>What is 'atomic operation' in CUDA and why is it important?</td>\n",
       "      <td>Atomic operations in CUDA ensure that memory updates are performed atomically without interference from other threads, critical for avoiding race conditions.</td>\n",
       "      <td>train</td>\n",
       "      <td>59</td>\n",
       "      <td>157</td>\n",
       "      <td>216</td>\n",
       "    </tr>\n",
       "    <tr>\n",
       "      <th>3150</th>\n",
       "      <td>What is the significance of the Tesla P40 and P4 accelerators?</td>\n",
       "      <td>The Tesla P40 and P4 accelerators are part of the Pascal architecture and provide accelerated inference in data center applications.</td>\n",
       "      <td>test</td>\n",
       "      <td>62</td>\n",
       "      <td>132</td>\n",
       "      <td>194</td>\n",
       "    </tr>\n",
       "    <tr>\n",
       "      <th>3426</th>\n",
       "      <td>What is the purpose of the API cudaGraphNodeGetEnabled?</td>\n",
       "      <td>The API cudaGraphNodeGetEnabled in CUDA 11.6 allows querying the enabled state of a node in a graph.</td>\n",
       "      <td>train</td>\n",
       "      <td>55</td>\n",
       "      <td>100</td>\n",
       "      <td>155</td>\n",
       "    </tr>\n",
       "    <tr>\n",
       "      <th>4118</th>\n",
       "      <td>How does the shuffle instruction contribute to better GPU kernel performance?</td>\n",
       "      <td>The shuffle instruction contributes to better GPU kernel performance by enabling faster and more efficient inter-thread communication within a warp, reducing the need for memory synchronization and improving data sharing.</td>\n",
       "      <td>train</td>\n",
       "      <td>77</td>\n",
       "      <td>221</td>\n",
       "      <td>298</td>\n",
       "    </tr>\n",
       "    <tr>\n",
       "      <th>538</th>\n",
       "      <td>How does CUDA provide support for FP16 arithmetic?</td>\n",
       "      <td>CUDA defines the half and half2 types for FP16 arithmetic. The CUDA header cuda_fp16.h includes intrinsic functions for operating on half data, providing a suite of half-precision intrinsics for various operations.</td>\n",
       "      <td>train</td>\n",
       "      <td>50</td>\n",
       "      <td>214</td>\n",
       "      <td>264</td>\n",
       "    </tr>\n",
       "    <tr>\n",
       "      <th>5123</th>\n",
       "      <td>What is the purpose of PTX ISA 7.4 in CUDA 11.4?</td>\n",
       "      <td>PTX ISA 7.4 in CUDA 11.4 provides more control over caching behavior of L1 and L2 caches, offering capabilities for optimizing memory access patterns and performance.</td>\n",
       "      <td>train</td>\n",
       "      <td>48</td>\n",
       "      <td>166</td>\n",
       "      <td>214</td>\n",
       "    </tr>\n",
       "    <tr>\n",
       "      <th>3896</th>\n",
       "      <td>Where can developers find more detailed information about the SHFL instruction?</td>\n",
       "      <td>Developers can find more detailed information about the SHFL instruction in the NVIDIA CUDA Programming Guide, specifically in the section on warp shuffle functions.</td>\n",
       "      <td>test</td>\n",
       "      <td>79</td>\n",
       "      <td>165</td>\n",
       "      <td>244</td>\n",
       "    </tr>\n",
       "    <tr>\n",
       "      <th>442</th>\n",
       "      <td>What is the relationship between hash maps and memory access patterns on GPUs?</td>\n",
       "      <td>Hash maps exhibit memory access patterns that align well with the random memory access capabilities of GPUs. This alignment contributes to efficient data retrieval and processing on GPU architectures.</td>\n",
       "      <td>train</td>\n",
       "      <td>78</td>\n",
       "      <td>200</td>\n",
       "      <td>278</td>\n",
       "    </tr>\n",
       "    <tr>\n",
       "      <th>2956</th>\n",
       "      <td>How can variadic templates improve code readability?</td>\n",
       "      <td>Variadic templates can improve code readability by reducing the need for multiple overloaded functions or function templates, leading to cleaner and more concise code.</td>\n",
       "      <td>train</td>\n",
       "      <td>52</td>\n",
       "      <td>167</td>\n",
       "      <td>219</td>\n",
       "    </tr>\n",
       "  </tbody>\n",
       "</table>\n",
       "</div>"
      ],
      "text/plain": [
       "                                                                             question  \\\n",
       "248               What is the new feature introduced in CUDA 11.2 regarding inlining?   \n",
       "6822                      What is 'atomic operation' in CUDA and why is it important?   \n",
       "3150                   What is the significance of the Tesla P40 and P4 accelerators?   \n",
       "3426                          What is the purpose of the API cudaGraphNodeGetEnabled?   \n",
       "4118    How does the shuffle instruction contribute to better GPU kernel performance?   \n",
       "538                                How does CUDA provide support for FP16 arithmetic?   \n",
       "5123                                 What is the purpose of PTX ISA 7.4 in CUDA 11.4?   \n",
       "3896  Where can developers find more detailed information about the SHFL instruction?   \n",
       "442    What is the relationship between hash maps and memory access patterns on GPUs?   \n",
       "2956                             How can variadic templates improve code readability?   \n",
       "\n",
       "                                                                                                                                                                                                                             answer  \\\n",
       "248                                            CUDA 11.2 introduces the capability to know which functions were inlined and which weren't. This feature provides insights into the inlining decisions and reasons for non-inlining.   \n",
       "6822                                                                  Atomic operations in CUDA ensure that memory updates are performed atomically without interference from other threads, critical for avoiding race conditions.   \n",
       "3150                                                                                           The Tesla P40 and P4 accelerators are part of the Pascal architecture and provide accelerated inference in data center applications.   \n",
       "3426                                                                                                                           The API cudaGraphNodeGetEnabled in CUDA 11.6 allows querying the enabled state of a node in a graph.   \n",
       "4118  The shuffle instruction contributes to better GPU kernel performance by enabling faster and more efficient inter-thread communication within a warp, reducing the need for memory synchronization and improving data sharing.   \n",
       "538          CUDA defines the half and half2 types for FP16 arithmetic. The CUDA header cuda_fp16.h includes intrinsic functions for operating on half data, providing a suite of half-precision intrinsics for various operations.   \n",
       "5123                                                         PTX ISA 7.4 in CUDA 11.4 provides more control over caching behavior of L1 and L2 caches, offering capabilities for optimizing memory access patterns and performance.   \n",
       "3896                                                          Developers can find more detailed information about the SHFL instruction in the NVIDIA CUDA Programming Guide, specifically in the section on warp shuffle functions.   \n",
       "442                        Hash maps exhibit memory access patterns that align well with the random memory access capabilities of GPUs. This alignment contributes to efficient data retrieval and processing on GPU architectures.   \n",
       "2956                                                        Variadic templates can improve code readability by reducing the need for multiple overloaded functions or function templates, leading to cleaner and more concise code.   \n",
       "\n",
       "     train_test  Q_chars  A_chars  QA_chars  \n",
       "248       train       67      180       247  \n",
       "6822      train       59      157       216  \n",
       "3150       test       62      132       194  \n",
       "3426      train       55      100       155  \n",
       "4118      train       77      221       298  \n",
       "538       train       50      214       264  \n",
       "5123      train       48      166       214  \n",
       "3896       test       79      165       244  \n",
       "442       train       78      200       278  \n",
       "2956      train       52      167       219  "
      ]
     },
     "execution_count": 14,
     "metadata": {},
     "output_type": "execute_result"
    }
   ],
   "source": [
    "df_A.sample(10)"
   ]
  },
  {
   "cell_type": "code",
   "execution_count": 15,
   "id": "cbe20152-0a5d-405d-bda5-7cfcaddc1862",
   "metadata": {
    "tags": []
   },
   "outputs": [
    {
     "data": {
      "text/html": [
       "<div>\n",
       "<style scoped>\n",
       "    .dataframe tbody tr th:only-of-type {\n",
       "        vertical-align: middle;\n",
       "    }\n",
       "\n",
       "    .dataframe tbody tr th {\n",
       "        vertical-align: top;\n",
       "    }\n",
       "\n",
       "    .dataframe thead th {\n",
       "        text-align: right;\n",
       "    }\n",
       "</style>\n",
       "<table border=\"1\" class=\"dataframe\">\n",
       "  <thead>\n",
       "    <tr style=\"text-align: right;\">\n",
       "      <th></th>\n",
       "      <th>question</th>\n",
       "      <th>answer</th>\n",
       "      <th>train_test</th>\n",
       "    </tr>\n",
       "  </thead>\n",
       "  <tbody>\n",
       "    <tr>\n",
       "      <th>0</th>\n",
       "      <td>What is Hybridizer?</td>\n",
       "      <td>Hybridizer is a compiler from Altimesh that enables programming GPUs and accelerators using C# code or .NET Assembly.</td>\n",
       "      <td>train</td>\n",
       "    </tr>\n",
       "    <tr>\n",
       "      <th>1</th>\n",
       "      <td>How does Hybridizer generate optimized code?</td>\n",
       "      <td>Hybridizer uses decorated symbols to express parallelism and generates source code or binaries optimized for multicore CPUs and GPUs.</td>\n",
       "      <td>test</td>\n",
       "    </tr>\n",
       "    <tr>\n",
       "      <th>2</th>\n",
       "      <td>What are some parallelization patterns mentioned in the text?</td>\n",
       "      <td>The text mentions using parallelization patterns like Parallel.For and distributing parallel work explicitly, similar to CUDA.</td>\n",
       "      <td>train</td>\n",
       "    </tr>\n",
       "    <tr>\n",
       "      <th>3</th>\n",
       "      <td>How can you benefit from accelerators without learning their internal architecture?</td>\n",
       "      <td>You can benefit from accelerators' compute horsepower without learning the details of their internal architecture by using patterns like Parallel.For or CUDA-like distribution of parallel work.</td>\n",
       "      <td>train</td>\n",
       "    </tr>\n",
       "    <tr>\n",
       "      <th>4</th>\n",
       "      <td>What is an example of using Hybridizer?</td>\n",
       "      <td>An example in the text demonstrates using Parallel.For with a lambda to leverage the compute power of accelerators.</td>\n",
       "      <td>train</td>\n",
       "    </tr>\n",
       "  </tbody>\n",
       "</table>\n",
       "</div>"
      ],
      "text/plain": [
       "                                                                              question  \\\n",
       "0                                                                  What is Hybridizer?   \n",
       "1                                         How does Hybridizer generate optimized code?   \n",
       "2                        What are some parallelization patterns mentioned in the text?   \n",
       "3  How can you benefit from accelerators without learning their internal architecture?   \n",
       "4                                              What is an example of using Hybridizer?   \n",
       "\n",
       "                                                                                                                                                                                              answer  \\\n",
       "0                                                                              Hybridizer is a compiler from Altimesh that enables programming GPUs and accelerators using C# code or .NET Assembly.   \n",
       "1                                                              Hybridizer uses decorated symbols to express parallelism and generates source code or binaries optimized for multicore CPUs and GPUs.   \n",
       "2                                                                     The text mentions using parallelization patterns like Parallel.For and distributing parallel work explicitly, similar to CUDA.   \n",
       "3  You can benefit from accelerators' compute horsepower without learning the details of their internal architecture by using patterns like Parallel.For or CUDA-like distribution of parallel work.   \n",
       "4                                                                                An example in the text demonstrates using Parallel.For with a lambda to leverage the compute power of accelerators.   \n",
       "\n",
       "  train_test  \n",
       "0      train  \n",
       "1       test  \n",
       "2      train  \n",
       "3      train  \n",
       "4      train  "
      ]
     },
     "execution_count": 15,
     "metadata": {},
     "output_type": "execute_result"
    }
   ],
   "source": [
    "#preserve Q&A columns\n",
    "df = df_A\n",
    "cols = ['question', 'answer', 'train_test']\n",
    "df = df[cols]\n",
    "pd.set_option('display.max_colwidth', 200)\n",
    "df_slim = df\n",
    "df_slim.head()"
   ]
  },
  {
   "cell_type": "code",
   "execution_count": 16,
   "id": "057f04e9-75ba-448d-85e3-57d4f2cf625d",
   "metadata": {
    "tags": []
   },
   "outputs": [
    {
     "name": "stdout",
     "output_type": "stream",
     "text": [
      "len(train) =  6331\n",
      "len(test) =  777\n"
     ]
    }
   ],
   "source": [
    "#create list of messages per \n",
    "#https://github.com/oracle-samples/oci-data-science-ai-samples/blob/main/ai-quick-actions/sample-datasets/evaluation-sample-no-sys-message.jsonl\n",
    "df = df_slim\n",
    "train = []\n",
    "test = []\n",
    "for idx, row in df.iterrows():\n",
    "    instruction = \"Provide a succinct answer to the following question: \"\n",
    "    body = row['question']\n",
    "    prompt = instruction + body\n",
    "    answer = row['answer']\n",
    "    train_test = row['train_test']\n",
    "    message_dict = {\n",
    "        \"prompt\": prompt,\n",
    "        \"completion\": answer   ,\n",
    "    }\n",
    "    if (train_test == 'train'):\n",
    "        train += [message_dict]\n",
    "    else:\n",
    "        test += [message_dict]\n",
    "print ('len(train) = ', len(train))\n",
    "print ('len(test) = ', len(test))"
   ]
  },
  {
   "cell_type": "code",
   "execution_count": 17,
   "id": "c05eef66-3d95-4dd3-8900-59337d9c4416",
   "metadata": {
    "tags": []
   },
   "outputs": [
    {
     "data": {
      "text/plain": [
       "{'prompt': 'Provide a succinct answer to the following question: What are some parallelization patterns mentioned in the text?',\n",
       " 'completion': 'The text mentions using parallelization patterns like Parallel.For and distributing parallel work explicitly, similar to CUDA.'}"
      ]
     },
     "execution_count": 17,
     "metadata": {},
     "output_type": "execute_result"
    }
   ],
   "source": [
    "train[1]"
   ]
  },
  {
   "cell_type": "code",
   "execution_count": 18,
   "id": "e5175c9d-70e5-40c6-898c-82c437cb6354",
   "metadata": {
    "tags": []
   },
   "outputs": [
    {
     "name": "stdout",
     "output_type": "stream",
     "text": [
      "len(train) =  6331\n"
     ]
    }
   ],
   "source": [
    "#write train.jsonl...6k records, 2Mb \n",
    "sample = train\n",
    "file = 'data/train.jsonl'\n",
    "import json\n",
    "with open(file, \"w\") as f:\n",
    "    for line in sample:\n",
    "        json.dump(line, f)\n",
    "        f.write(\"\\n\")\n",
    "print ('len(train) = ', len(train))"
   ]
  },
  {
   "cell_type": "code",
   "execution_count": 19,
   "id": "8a400fe3-2f89-4875-84f5-a700381af34b",
   "metadata": {
    "tags": []
   },
   "outputs": [
    {
     "name": "stdout",
     "output_type": "stream",
     "text": [
      "{\"prompt\": \"Provide a succinct answer to the following question: What is an example of using Hybridizer?\", \"completion\": \"An example in the text demonstrates using Parallel.For with a lambda to leverage the compute power of accelerators.\"}\n"
     ]
    }
   ],
   "source": [
    "#spot-check data/train.jsonl\n",
    "!head -4 data/train.jsonl | tail -1"
   ]
  },
  {
   "cell_type": "code",
   "execution_count": 20,
   "id": "4ee3e18b-01f7-4272-ac24-8a8ead643ac4",
   "metadata": {
    "tags": []
   },
   "outputs": [
    {
     "name": "stdout",
     "output_type": "stream",
     "text": [
      "len(test) =  777\n"
     ]
    }
   ],
   "source": [
    "#write test.jsonl\n",
    "sample = test\n",
    "file = 'data/test.jsonl'\n",
    "import json\n",
    "with open(file, \"w\") as f:\n",
    "    for line in sample:\n",
    "        json.dump(line, f)\n",
    "        f.write(\"\\n\")\n",
    "print ('len(test) = ', len(test))"
   ]
  },
  {
   "cell_type": "code",
   "execution_count": 21,
   "id": "306c3d50-4118-404a-aa7a-c1feb27d69f4",
   "metadata": {
    "tags": []
   },
   "outputs": [
    {
     "name": "stdout",
     "output_type": "stream",
     "text": [
      "{\"prompt\": \"Provide a succinct answer to the following question: What is the significance of the combined L1 Data Cache and Shared Memory subsystem in the Volta SM?\", \"completion\": \"The combined L1 Data Cache and Shared Memory subsystem in the Volta SM improves performance while simplifying programming. It enhances data access and utilization, resulting in better overall efficiency for memory-intensive applications.\"}\n",
      "{\"prompt\": \"Provide a succinct answer to the following question: What are some of the specific benefits of CUDA 9's libraries?\", \"completion\": \"CUDA 9's libraries offer optimized and GPU-accelerated algorithms for various domains, including deep learning, image processing, signal processing, and linear systems. These libraries are designed to achieve top-notch performance on the Volta platform, utilizing features like Tensor Cores to deliver faster computations.\"}\n",
      "{\"prompt\": \"Provide a succinct answer to the following question: How did RAPIDS cuDF integrate GPU hash maps, and what benefits did it offer?\", \"completion\": \"RAPIDS cuDF integrated GPU hash maps, resulting in significant speedups for data science workloads. This integration leveraged the power of GPUs to enhance data processing efficiency.\"}\n",
      "{\"prompt\": \"Provide a succinct answer to the following question: What are some use cases where cuCollections, the CUDA C++ library, can be applied apart from tabular data processing?\", \"completion\": \"cuCollections can be used for various tasks beyond tabular data processing, including recommender systems, stream compaction, graph algorithms, genomics, and sparse linear algebra operations.\"}\n",
      "{\"prompt\": \"Provide a succinct answer to the following question: Why are GPUs particularly well-suited for hash table operations?\", \"completion\": \"GPUs excel at hash table operations due to their high random access throughput and memory architecture, which is optimized for small random reads and atomic updates.\"}\n",
      "{\"prompt\": \"Provide a succinct answer to the following question: How does cuCollections cuco::static_map outperform other GPU hash map implementations?\", \"completion\": \"In benchmark tests, cuCollections cuco::static_map achieves higher insert and find throughputs compared to other GPU hash map implementations, such as kokkos::UnorderedMap, resulting in significant speedup.\"}\n",
      "{\"prompt\": \"Provide a succinct answer to the following question: How does the cooperative probing approach enhance hash table performance in high load factor scenarios?\", \"completion\": \"Cooperative probing improves hash table performance in scenarios with high load factors. By assigning a group of threads to cooperatively probe neighboring hash buckets, the approach efficiently handles collisions and reduces probing sequences.\"}\n",
      "{\"prompt\": \"Provide a succinct answer to the following question: How does the cooperative approach to probing contribute to the performance of GPU hash tables?\", \"completion\": \"The cooperative approach to probing in GPU hash tables improves performance by efficiently utilizing groups of threads to probe neighboring hash buckets. This reduces the likelihood of collisions and speeds up hash map operations.\"}\n",
      "{\"prompt\": \"Provide a succinct answer to the following question: How does using lower precision in numerical computing benefit certain applications?\", \"completion\": \"Using lower precision reduces memory usage, allows training and deployment of larger networks, and speeds up data transfers for applications like deep learning.\"}\n",
      "{\"prompt\": \"Provide a succinct answer to the following question: What is mixed precision in numerical computation?\", \"completion\": \"Mixed precision refers to the combined use of different numerical precisions in computational methods, optimizing performance by leveraging lower precision where appropriate.\"}\n"
     ]
    }
   ],
   "source": [
    "#spot-check data/test.jsonl\n",
    "!head -50 data/test.jsonl | tail -10"
   ]
  },
  {
   "cell_type": "code",
   "execution_count": 22,
   "id": "51ae2dde-fdde-4e00-93aa-013d84eb0a69",
   "metadata": {
    "tags": []
   },
   "outputs": [
    {
     "name": "stdout",
     "output_type": "stream",
     "text": [
      "\u001b[?25lUploading object  [####################################]  100%\u001b[?25h\n",
      "{\n",
      "  \"etag\": \"dd61ed1b-dc4e-4e3a-b9e2-7d5ae50c31f1\",\n",
      "  \"last-modified\": \"Tue, 16 Sep 2025 22:07:27 GMT\",\n",
      "  \"opc-content-md5\": \"5bxFM1Xh+ag7qKWgUfAIAA==\"\n",
      "}\n"
     ]
    }
   ],
   "source": [
    "#push train.jsonl to ObjStore \n",
    "!ns=orasenatdpltintegration03 ;\\\n",
    "bucket_name=JoeHahnQuickActions ;\\\n",
    "bs_file=data/train.jsonl ;\\\n",
    "os_file=quick_actions/tuning_data/tune_sample.jsonl ;\\\n",
    "oci os object put --bucket-name $bucket_name --file $bs_file --name $os_file -ns $ns --auth resource_principal --force"
   ]
  },
  {
   "cell_type": "code",
   "execution_count": 23,
   "id": "3dbe9065",
   "metadata": {
    "tags": []
   },
   "outputs": [
    {
     "name": "stdout",
     "output_type": "stream",
     "text": [
      "execution time (min) =  0.0879877249399821\n"
     ]
    }
   ],
   "source": [
    "#done\n",
    "print('execution time (min) = ', (tm.time() - clock_start)/60.0)"
   ]
  },
  {
   "cell_type": "code",
   "execution_count": null,
   "id": "95ad1fb4-e195-43e1-a1f2-6dc190d63e7f",
   "metadata": {},
   "outputs": [],
   "source": []
  }
 ],
 "metadata": {
  "kernelspec": {
   "display_name": "Python [conda env:generalml_p311_cpu_x86_64_v1]",
   "language": "python",
   "name": "conda-env-generalml_p311_cpu_x86_64_v1-py"
  },
  "language_info": {
   "codemirror_mode": {
    "name": "ipython",
    "version": 3
   },
   "file_extension": ".py",
   "mimetype": "text/x-python",
   "name": "python",
   "nbconvert_exporter": "python",
   "pygments_lexer": "ipython3",
   "version": "3.11.0"
  }
 },
 "nbformat": 4,
 "nbformat_minor": 5
}
